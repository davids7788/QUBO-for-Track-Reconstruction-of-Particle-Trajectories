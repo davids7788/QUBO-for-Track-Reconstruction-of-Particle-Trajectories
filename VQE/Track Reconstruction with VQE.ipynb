{
 "cells": [
  {
   "cell_type": "markdown",
   "id": "796e9a85",
   "metadata": {},
   "source": [
    "# VQE for Track Reconstruction\n",
    "\n",
    "This is an introduction about the concepts of using VQE in the context of track reconstruction, more precisly solving a QUBO which represent track candidates. This notebook will provide you with information and tasks to consolidate your knowledge.\n",
    "\n",
    "If something is unclear or if you just want to discuss something, don't forget:\n",
    "\n",
    "**We are always happy to answer your questions and to help you at any stage of the project!**\n",
    "\n",
    "## Checklist before starting to work on this noteboook\n",
    "\n",
    "If you feel, that (parts of) the following statements is not true, let's schedule a brief zoom meeting to make them true :)\n",
    "\n",
    "* I have knowlegde about the concepts of a preselection (from a previous notebook ;-))\n",
    "    - doublect selection\n",
    "    - triplet selection\n",
    "* I have knowledge about the QUBO and it's link to track reconstruction\n",
    "    - triplet interaction terms\n",
    "    - triplet quality terms\n",
    "    - energy evaluation\n",
    "\n"
   ]
  },
  {
   "cell_type": "markdown",
   "id": "d216834b",
   "metadata": {},
   "source": [
    "##  I. Framework Introduction\n",
    "    a) preselection framework\n",
    "          - task 1: using the preselection framework \n",
    "\n",
    "## II. VQE preparation of a basic example\n",
    "    a) creating triplets from a tracking data file\n",
    "    b) loading triplet list and creating QUBO matrix \n",
    "          - task 2: energy evaluation\n",
    "    c) converting the QUBO to an Ising model\n",
    "          - task 3: Ising representation\n",
    "          \n",
    "## III. Solving the QUBO\n",
    "    a) Numpy Eigensolver exact solution\n",
    "    b) solving the QUBO with ideal VQE\n",
    "          - task 4: understanding the results part I\n",
    "    c) solving the QUBO on a Fake Device\n",
    "          - task 5: understanding the results part II\n",
    "    d) solving the QUBO with VQE on a real quantum device"
   ]
  },
  {
   "cell_type": "markdown",
   "id": "6d418e1e",
   "metadata": {},
   "source": [
    "##  I. Framework Introduction\n",
    "\n",
    "Before we can start with VQE, we would like to introduce a faster way of executing the preselection:\n",
    "\n",
    "From now on you may use a part of our framework for the preselection. It's basically a more sophisticated version of the code in the track reconstruction basics notebook. If you pass the parameters correctly, a .npy file containing triplets is created. This file we can then use for the VQE approach.\n",
    "\n",
    "The framework (or at least it's a small piece of of our framework) also creates some statistics.\n",
    "In the following, we prepared a small example on how we perform the preselection with our framework. Click and enjoy!"
   ]
  },
  {
   "cell_type": "markdown",
   "id": "4964a803",
   "metadata": {},
   "source": [
    "## Task 1: using the preselection framework\n",
    "\n",
    "    a) Execute the code below and look at the output files in the newly created folder. Can you explain what they show and how to interprete results! Let's discuss them!\n",
    "\n",
    "    b) Schedule a meeting with us and let's talk about (a) and about the preselection and how you can access and tune it for your summer student project. "
   ]
  },
  {
   "cell_type": "code",
   "execution_count": 1,
   "id": "bd1897a6",
   "metadata": {},
   "outputs": [],
   "source": [
    "%%capture\n",
    "from preselection.x_plets import XpletCreatorLUXE\n",
    "from pathlib import Path\n",
    "import sys\n",
    "import yaml\n",
    "\n",
    "import os\n",
    "\n",
    "# ---------------------------------------------------------------------------------------------------------------------- # \n",
    "configuration_file =  \"preselection/configurations/LUXE.yaml\"          # prepared configuration file\n",
    "tracking_data_file = \"example/example_event.csv\"                       # prepared .csv tracking data file\n",
    "output_folder = \"example\"                                              # storing results\n",
    "# ---------------------------------------------------------------------------------------------------------------------- # \n",
    "\n",
    "\n",
    "# XPLetCreator manages the creation of doublets and triplets. The parameters are read from the config file.\n",
    "with open(configuration_file, 'r') as f:\n",
    "    config_file = yaml.safe_load(f)\n",
    "\n",
    "# Creating a new folder which is named as the config file and stored inside the folder according to sys.argv[3]\n",
    "new_folder = output_folder + \"/\" + tracking_data_file.split(\"/\")[-1].split(\".csv\")[0] + \"-\" + \\\n",
    "             \".\".join(configuration_file.split(\"/\")[-1].split(\".\")[0:-1])\n",
    "\n",
    "if Path(new_folder).is_dir():\n",
    "    pass\n",
    "else:\n",
    "    os.mkdir(new_folder)\n",
    "\n",
    "# Creating Xplet Object\n",
    "x_plet_creator = XpletCreatorLUXE(tracking_data_file, config_file, new_folder)\n",
    "x_plet_creator.make_simplified_x_plet_list()\n",
    "x_plet_creator.set_triplet_coefficients()\n",
    "x_plet_creator.write_info_file()\n",
    "x_plet_creator.plot_and_save_statistics()"
   ]
  },
  {
   "cell_type": "markdown",
   "id": "16fa55af",
   "metadata": {},
   "source": [
    "## II. VQE preparation of a basic example "
   ]
  },
  {
   "cell_type": "markdown",
   "id": "c93be9c5",
   "metadata": {},
   "source": [
    "In this introduction you will start your VQE experience with a very basic example:\n",
    "\n",
    "* 8 hits on the detector layers resulting in 2 tracks\n",
    "* 2 tracks consist of 4 triplets in total, but in this example there are 5 triplets and it's on the algorithm and on you to decide which triplets to keep\n",
    "\n",
    "You will use the following data, stemming from a Simplified Simulation:\n",
    "\n",
    "|hit_ID| |x|                   |y|                      |z|   |layer| |particle_ID| |particle_energy|\n",
    "|------| |-|                   |-|                      |-|   |-----| |-----------| |---------------|\n",
    "|0|      |0.12103957869794268| |-0.0005543368424526175| |3.9| |1|     |0|           |7000.0|\n",
    "|1|      |0.10253193453685608| |-0.0015610591253087892| |3.9| |1|     |1|           |8000.0|\n",
    "|2|      |0.12784860784208985| |-0.0005494096126926273| |4.0| |2|     |0|           |7000.0|\n",
    "|3|      |0.10828159267753819| |-0.0016004537865348845| |4.0| |2|     |1|           |8000.0|\n",
    "|4|      |0.13464833759466250| |-0.0005370527994169504| |4.1| |3|     |0|           |7000.0|\n",
    "|5|      |0.11403923270685501| |-0.0016270673269656798| |4.1| |3|     |1|           |8000.0|\n",
    "|6|      |0.14144026879465033| |-0.0005494048105441511| |4.2| |4|     |0|           |7000.0|\n",
    "|7|      |0.11978100416246684| |-0.0016458699843569216| |4.2| |4|     |1|           |8000.0|\n",
    "\n",
    "A file containing these data is prepared. "
   ]
  },
  {
   "cell_type": "markdown",
   "id": "126cf0f0",
   "metadata": {},
   "source": [
    "## a) Creating triplets from a tracking data file\n",
    "\n",
    "With the code below, the data is loaded and processed. All parameters for the QUBO are set and saved into a .npy file which contains a list of triplet objects. Please have a look at the generated output statistic files!"
   ]
  },
  {
   "cell_type": "code",
   "execution_count": 2,
   "id": "86745dbb",
   "metadata": {},
   "outputs": [],
   "source": [
    "%%capture\n",
    "from preselection.x_plets import XpletCreatorLUXE\n",
    "from pathlib import Path\n",
    "import sys\n",
    "import yaml\n",
    "\n",
    "import os\n",
    "\n",
    "# ---------------------------------------------------------------------------------------------------------------------- # \n",
    "configuration_file =  \"preselection/configurations/intro.yaml\"   # prepared configuration file\n",
    "tracking_data_file = \"example/example_VQE.csv\"                         # prepared .csv tracking data file\n",
    "output_folder = \"example\"                                              # storing results\n",
    "# ---------------------------------------------------------------------------------------------------------------------- # \n",
    "\n",
    "\n",
    "# XPLetCreator manages the creation of doublets and triplets. The parameters are read from the config file.\n",
    "with open(configuration_file, 'r') as f:\n",
    "    config_file = yaml.safe_load(f)\n",
    "\n",
    "# Creating a new folder which is named as the config file and stored inside the folder according to sys.argv[3]\n",
    "new_folder = output_folder + \"/\" + tracking_data_file.split(\"/\")[-1].split(\".csv\")[0] + \"-\" + \\\n",
    "             \".\".join(configuration_file.split(\"/\")[-1].split(\".\")[0:-1])\n",
    "\n",
    "if Path(new_folder).is_dir():\n",
    "    pass\n",
    "else:\n",
    "    os.mkdir(new_folder)\n",
    "\n",
    "# Creating Xplet Object\n",
    "x_plet_creator = XpletCreatorLUXE(tracking_data_file, config_file, new_folder)\n",
    "x_plet_creator.make_simplified_x_plet_list()\n",
    "x_plet_creator.set_triplet_coefficients()\n",
    "x_plet_creator.write_info_file()\n",
    "x_plet_creator.plot_and_save_statistics()"
   ]
  },
  {
   "cell_type": "markdown",
   "id": "fcca2333",
   "metadata": {},
   "source": [
    "## b) Loading triplet list and creating QUBO matrix "
   ]
  },
  {
   "cell_type": "code",
   "execution_count": 3,
   "id": "f775d4f9",
   "metadata": {},
   "outputs": [
    {
     "name": "stdout",
     "output_type": "stream",
     "text": [
      "QUBO Matrix (values rounded to the first decimal place):\n"
     ]
    },
    {
     "data": {
      "text/html": [
       "<div>\n",
       "<style scoped>\n",
       "    .dataframe tbody tr th:only-of-type {\n",
       "        vertical-align: middle;\n",
       "    }\n",
       "\n",
       "    .dataframe tbody tr th {\n",
       "        vertical-align: top;\n",
       "    }\n",
       "\n",
       "    .dataframe thead th {\n",
       "        text-align: right;\n",
       "    }\n",
       "</style>\n",
       "<table border=\"1\" class=\"dataframe\">\n",
       "  <thead>\n",
       "    <tr style=\"text-align: right;\">\n",
       "      <th></th>\n",
       "      <th>0</th>\n",
       "      <th>1</th>\n",
       "      <th>2</th>\n",
       "      <th>3</th>\n",
       "      <th>4</th>\n",
       "    </tr>\n",
       "  </thead>\n",
       "  <tbody>\n",
       "    <tr>\n",
       "      <th>0</th>\n",
       "      <td>-0.1</td>\n",
       "      <td>0.0</td>\n",
       "      <td>0.0</td>\n",
       "      <td>0.0</td>\n",
       "      <td>-1.0</td>\n",
       "    </tr>\n",
       "    <tr>\n",
       "      <th>1</th>\n",
       "      <td>0.0</td>\n",
       "      <td>-0.1</td>\n",
       "      <td>1.0</td>\n",
       "      <td>-1.0</td>\n",
       "      <td>0.0</td>\n",
       "    </tr>\n",
       "    <tr>\n",
       "      <th>2</th>\n",
       "      <td>0.0</td>\n",
       "      <td>0.0</td>\n",
       "      <td>0.1</td>\n",
       "      <td>0.0</td>\n",
       "      <td>-0.9</td>\n",
       "    </tr>\n",
       "    <tr>\n",
       "      <th>3</th>\n",
       "      <td>0.0</td>\n",
       "      <td>0.0</td>\n",
       "      <td>0.0</td>\n",
       "      <td>-0.1</td>\n",
       "      <td>0.0</td>\n",
       "    </tr>\n",
       "    <tr>\n",
       "      <th>4</th>\n",
       "      <td>0.0</td>\n",
       "      <td>0.0</td>\n",
       "      <td>0.0</td>\n",
       "      <td>0.0</td>\n",
       "      <td>-0.1</td>\n",
       "    </tr>\n",
       "  </tbody>\n",
       "</table>\n",
       "</div>"
      ],
      "text/plain": [
       "     0    1    2    3    4\n",
       "0 -0.1  0.0  0.0  0.0 -1.0\n",
       "1  0.0 -0.1  1.0 -1.0  0.0\n",
       "2  0.0  0.0  0.1  0.0 -0.9\n",
       "3  0.0  0.0  0.0 -0.1  0.0\n",
       "4  0.0  0.0  0.0  0.0 -0.1"
      ]
     },
     "metadata": {},
     "output_type": "display_data"
    }
   ],
   "source": [
    "import numpy as np\n",
    "import pandas as pd\n",
    "from IPython.display import display, HTML, clear_output\n",
    "\n",
    "pd.set_option('precision', 2)\n",
    "\n",
    "triplet_list = np.load(\"example/example_VQE-intro/triplet_list.npy\", allow_pickle=True)\n",
    "size = len(triplet_list) \n",
    "\n",
    "\n",
    "# QUBO matrix, a_i are values on the diagonal, b_ij for values off the diagonal\n",
    "a_i = np.zeros(size)\n",
    "b_ij = np.zeros((size, size))\n",
    "\n",
    "# filling the QUBO matrix\n",
    "for t in triplet_list:\n",
    "    a_i[t.triplet_id] = t.quality\n",
    "    for interaction in t.interactions.keys():\n",
    "        if interaction > t.triplet_id:\n",
    "            b_ij[t.triplet_id, interaction] = t.interactions[interaction]\n",
    "\n",
    "qubo_matrix = np.diag(a_i) + b_ij   \n",
    "\n",
    "print(\"QUBO Matrix (values rounded to the first decimal place):\")\n",
    "display(pd.DataFrame(qubo_matrix))"
   ]
  },
  {
   "cell_type": "markdown",
   "id": "6f458840",
   "metadata": {},
   "source": [
    "## Task 2: energy evaluation\n",
    "\n",
    "    a) How is the energy of a QUBO with a given solution evaluated? \n",
    "\n",
    "    b) What is the energy of the system according to the matrix above if the solution is:\n",
    "    \n",
    "        i)   [1, 1, 1, 1, 1]\n",
    "        ii)  [0, 0, 0, 0, 0]\n",
    "        iii) [1, 1, 0, 1, 1]"
   ]
  },
  {
   "cell_type": "markdown",
   "id": "93a626b6",
   "metadata": {},
   "source": [
    "## c) Creating the QUBO as QuadraticProgram\n",
    "\n",
    "There are some substeps now. On the technical side, we have to create a binary variable for every triplet and merge the variables with the QUBO matrix to get our objective. One can check the output and find\n",
    "    \n",
    "    - the objective we want to minimise\n",
    "    - the allowed range of the variables\n",
    "    - the name of the variables\n",
    "    \n",
    "if everything makes sense, then proceed."
   ]
  },
  {
   "cell_type": "code",
   "execution_count": 4,
   "id": "2ebcbe3e",
   "metadata": {},
   "outputs": [],
   "source": [
    "%%capture\n",
    "from qiskit.optimization.problems import QuadraticProgram"
   ]
  },
  {
   "cell_type": "code",
   "execution_count": 5,
   "id": "cd92fbfb",
   "metadata": {},
   "outputs": [
    {
     "name": "stdout",
     "output_type": "stream",
     "text": [
      "\\ This file has been generated by DOcplex\n",
      "\\ ENCODING=ISO-8859-1\n",
      "\\Problem name: CPLEX\n",
      "\n",
      "Minimize\n",
      " obj: - 0.099965482509 x0 - 0.100000000000 x1 + 0.100000000000 x2\n",
      "      - 0.099847969457 x3 - 0.099937471079 x4 + [ - 2 x0*x4 + 2 x1*x2\n",
      "      - 1.999958422656 x1*x3 - 1.800000000000 x2*x4 ]/2\n",
      "Subject To\n",
      "\n",
      "Bounds\n",
      " 0 <= x0 <= 1\n",
      " 0 <= x1 <= 1\n",
      " 0 <= x2 <= 1\n",
      " 0 <= x3 <= 1\n",
      " 0 <= x4 <= 1\n",
      "\n",
      "Binaries\n",
      " x0 x1 x2 x3 x4\n",
      "End\n",
      "\n"
     ]
    }
   ],
   "source": [
    "qubo = QuadraticProgram()\n",
    "for i in range(size):\n",
    "    qubo.binary_var(name='x' + str(i))\n",
    "qubo.minimize(linear=a_i, quadratic=b_ij)\n",
    "\n",
    "print(qubo)"
   ]
  },
  {
   "cell_type": "markdown",
   "id": "eb615f9e",
   "metadata": {},
   "source": [
    "## c) Converting the QUBO to an Ising model\n",
    "\n",
    "The Qubo has to be converted to an Ising model in order to make computation on a quantum computer possible."
   ]
  },
  {
   "cell_type": "code",
   "execution_count": 6,
   "id": "60236259",
   "metadata": {},
   "outputs": [],
   "source": [
    "%%capture\n",
    "op, offset = qubo.to_ising()"
   ]
  },
  {
   "cell_type": "code",
   "execution_count": 7,
   "id": "01d68b87",
   "metadata": {},
   "outputs": [
    {
     "data": {
      "text/html": [
       "<div>\n",
       "<style scoped>\n",
       "    .dataframe tbody tr th:only-of-type {\n",
       "        vertical-align: middle;\n",
       "    }\n",
       "\n",
       "    .dataframe tbody tr th {\n",
       "        vertical-align: top;\n",
       "    }\n",
       "\n",
       "    .dataframe thead th {\n",
       "        text-align: right;\n",
       "    }\n",
       "</style>\n",
       "<table border=\"1\" class=\"dataframe\">\n",
       "  <thead>\n",
       "    <tr style=\"text-align: right;\">\n",
       "      <th></th>\n",
       "      <th>0</th>\n",
       "    </tr>\n",
       "  </thead>\n",
       "  <tbody>\n",
       "    <tr>\n",
       "      <th>0</th>\n",
       "      <td>0.29998274125443714 * IIIIZ</td>\n",
       "    </tr>\n",
       "    <tr>\n",
       "      <th>1</th>\n",
       "      <td>0.04999480283204502 * IIIZI</td>\n",
       "    </tr>\n",
       "    <tr>\n",
       "      <th>2</th>\n",
       "      <td>-0.07499999999999998 * IIZII</td>\n",
       "    </tr>\n",
       "    <tr>\n",
       "      <th>3</th>\n",
       "      <td>0.29991878756069884 * IZIII</td>\n",
       "    </tr>\n",
       "    <tr>\n",
       "      <th>4</th>\n",
       "      <td>0.5249687355396694 * ZIIII</td>\n",
       "    </tr>\n",
       "    <tr>\n",
       "      <th>5</th>\n",
       "      <td>0.25 * IIZZI</td>\n",
       "    </tr>\n",
       "    <tr>\n",
       "      <th>6</th>\n",
       "      <td>-0.24999480283204503 * IZIZI</td>\n",
       "    </tr>\n",
       "    <tr>\n",
       "      <th>7</th>\n",
       "      <td>-0.25 * ZIIIZ</td>\n",
       "    </tr>\n",
       "    <tr>\n",
       "      <th>8</th>\n",
       "      <td>-0.225 * ZIZII</td>\n",
       "    </tr>\n",
       "  </tbody>\n",
       "</table>\n",
       "</div>"
      ],
      "text/plain": [
       "                              0\n",
       "0   0.29998274125443714 * IIIIZ\n",
       "1   0.04999480283204502 * IIIZI\n",
       "2  -0.07499999999999998 * IIZII\n",
       "3   0.29991878756069884 * IZIII\n",
       "4    0.5249687355396694 * ZIIII\n",
       "5                  0.25 * IIZZI\n",
       "6  -0.24999480283204503 * IZIZI\n",
       "7                 -0.25 * ZIIIZ\n",
       "8                -0.225 * ZIZII"
      ]
     },
     "metadata": {},
     "output_type": "display_data"
    }
   ],
   "source": [
    "display(pd.DataFrame(op))"
   ]
  },
  {
   "cell_type": "code",
   "execution_count": 8,
   "id": "11e6e58f",
   "metadata": {},
   "outputs": [
    {
     "data": {
      "text/html": [
       "<div>\n",
       "<style scoped>\n",
       "    .dataframe tbody tr th:only-of-type {\n",
       "        vertical-align: middle;\n",
       "    }\n",
       "\n",
       "    .dataframe tbody tr th {\n",
       "        vertical-align: top;\n",
       "    }\n",
       "\n",
       "    .dataframe thead th {\n",
       "        text-align: right;\n",
       "    }\n",
       "</style>\n",
       "<table border=\"1\" class=\"dataframe\">\n",
       "  <thead>\n",
       "    <tr style=\"text-align: right;\">\n",
       "      <th></th>\n",
       "      <th>0</th>\n",
       "      <th>1</th>\n",
       "      <th>2</th>\n",
       "      <th>3</th>\n",
       "      <th>4</th>\n",
       "      <th>...</th>\n",
       "      <th>27</th>\n",
       "      <th>28</th>\n",
       "      <th>29</th>\n",
       "      <th>30</th>\n",
       "      <th>31</th>\n",
       "    </tr>\n",
       "  </thead>\n",
       "  <tbody>\n",
       "    <tr>\n",
       "      <th>0</th>\n",
       "      <td>0.62+0.00j</td>\n",
       "      <td>0.00+0.00j</td>\n",
       "      <td>0.00+0.00j</td>\n",
       "      <td>0.00+0.00j</td>\n",
       "      <td>0.00+0.00j</td>\n",
       "      <td>...</td>\n",
       "      <td>0.00+0.00j</td>\n",
       "      <td>0.00+0.00j</td>\n",
       "      <td>0.00+0.00j</td>\n",
       "      <td>0.00+0.00j</td>\n",
       "      <td>0.00+0.00j</td>\n",
       "    </tr>\n",
       "    <tr>\n",
       "      <th>1</th>\n",
       "      <td>0.00+0.00j</td>\n",
       "      <td>0.52+0.00j</td>\n",
       "      <td>0.00+0.00j</td>\n",
       "      <td>0.00+0.00j</td>\n",
       "      <td>0.00+0.00j</td>\n",
       "      <td>...</td>\n",
       "      <td>0.00+0.00j</td>\n",
       "      <td>0.00+0.00j</td>\n",
       "      <td>0.00+0.00j</td>\n",
       "      <td>0.00+0.00j</td>\n",
       "      <td>0.00+0.00j</td>\n",
       "    </tr>\n",
       "    <tr>\n",
       "      <th>2</th>\n",
       "      <td>0.00+0.00j</td>\n",
       "      <td>0.00+0.00j</td>\n",
       "      <td>0.52+0.00j</td>\n",
       "      <td>0.00+0.00j</td>\n",
       "      <td>0.00+0.00j</td>\n",
       "      <td>...</td>\n",
       "      <td>0.00+0.00j</td>\n",
       "      <td>0.00+0.00j</td>\n",
       "      <td>0.00+0.00j</td>\n",
       "      <td>0.00+0.00j</td>\n",
       "      <td>0.00+0.00j</td>\n",
       "    </tr>\n",
       "    <tr>\n",
       "      <th>3</th>\n",
       "      <td>0.00+0.00j</td>\n",
       "      <td>0.00+0.00j</td>\n",
       "      <td>0.00+0.00j</td>\n",
       "      <td>0.42+0.00j</td>\n",
       "      <td>0.00+0.00j</td>\n",
       "      <td>...</td>\n",
       "      <td>0.00+0.00j</td>\n",
       "      <td>0.00+0.00j</td>\n",
       "      <td>0.00+0.00j</td>\n",
       "      <td>0.00+0.00j</td>\n",
       "      <td>0.00+0.00j</td>\n",
       "    </tr>\n",
       "    <tr>\n",
       "      <th>4</th>\n",
       "      <td>0.00+0.00j</td>\n",
       "      <td>0.00+0.00j</td>\n",
       "      <td>0.00+0.00j</td>\n",
       "      <td>0.00+0.00j</td>\n",
       "      <td>0.72+0.00j</td>\n",
       "      <td>...</td>\n",
       "      <td>0.00+0.00j</td>\n",
       "      <td>0.00+0.00j</td>\n",
       "      <td>0.00+0.00j</td>\n",
       "      <td>0.00+0.00j</td>\n",
       "      <td>0.00+0.00j</td>\n",
       "    </tr>\n",
       "    <tr>\n",
       "      <th>...</th>\n",
       "      <td>...</td>\n",
       "      <td>...</td>\n",
       "      <td>...</td>\n",
       "      <td>...</td>\n",
       "      <td>...</td>\n",
       "      <td>...</td>\n",
       "      <td>...</td>\n",
       "      <td>...</td>\n",
       "      <td>...</td>\n",
       "      <td>...</td>\n",
       "      <td>...</td>\n",
       "    </tr>\n",
       "    <tr>\n",
       "      <th>27</th>\n",
       "      <td>0.00+0.00j</td>\n",
       "      <td>0.00+0.00j</td>\n",
       "      <td>0.00+0.00j</td>\n",
       "      <td>0.00+0.00j</td>\n",
       "      <td>0.00+0.00j</td>\n",
       "      <td>...</td>\n",
       "      <td>-1.77+0.00j</td>\n",
       "      <td>0.00+0.00j</td>\n",
       "      <td>0.00+0.00j</td>\n",
       "      <td>0.00+0.00j</td>\n",
       "      <td>0.00+0.00j</td>\n",
       "    </tr>\n",
       "    <tr>\n",
       "      <th>28</th>\n",
       "      <td>0.00+0.00j</td>\n",
       "      <td>0.00+0.00j</td>\n",
       "      <td>0.00+0.00j</td>\n",
       "      <td>0.00+0.00j</td>\n",
       "      <td>0.00+0.00j</td>\n",
       "      <td>...</td>\n",
       "      <td>0.00+0.00j</td>\n",
       "      <td>-0.37+0.00j</td>\n",
       "      <td>0.00+0.00j</td>\n",
       "      <td>0.00+0.00j</td>\n",
       "      <td>0.00+0.00j</td>\n",
       "    </tr>\n",
       "    <tr>\n",
       "      <th>29</th>\n",
       "      <td>0.00+0.00j</td>\n",
       "      <td>0.00+0.00j</td>\n",
       "      <td>0.00+0.00j</td>\n",
       "      <td>0.00+0.00j</td>\n",
       "      <td>0.00+0.00j</td>\n",
       "      <td>...</td>\n",
       "      <td>0.00+0.00j</td>\n",
       "      <td>0.00+0.00j</td>\n",
       "      <td>-1.47+0.00j</td>\n",
       "      <td>0.00+0.00j</td>\n",
       "      <td>0.00+0.00j</td>\n",
       "    </tr>\n",
       "    <tr>\n",
       "      <th>30</th>\n",
       "      <td>0.00+0.00j</td>\n",
       "      <td>0.00+0.00j</td>\n",
       "      <td>0.00+0.00j</td>\n",
       "      <td>0.00+0.00j</td>\n",
       "      <td>0.00+0.00j</td>\n",
       "      <td>...</td>\n",
       "      <td>0.00+0.00j</td>\n",
       "      <td>0.00+0.00j</td>\n",
       "      <td>0.00+0.00j</td>\n",
       "      <td>-0.47+0.00j</td>\n",
       "      <td>0.00+0.00j</td>\n",
       "    </tr>\n",
       "    <tr>\n",
       "      <th>31</th>\n",
       "      <td>0.00+0.00j</td>\n",
       "      <td>0.00+0.00j</td>\n",
       "      <td>0.00+0.00j</td>\n",
       "      <td>0.00+0.00j</td>\n",
       "      <td>0.00+0.00j</td>\n",
       "      <td>...</td>\n",
       "      <td>0.00+0.00j</td>\n",
       "      <td>0.00+0.00j</td>\n",
       "      <td>0.00+0.00j</td>\n",
       "      <td>0.00+0.00j</td>\n",
       "      <td>-1.57+0.00j</td>\n",
       "    </tr>\n",
       "  </tbody>\n",
       "</table>\n",
       "<p>32 rows × 32 columns</p>\n",
       "</div>"
      ],
      "text/plain": [
       "            0           1           2           3           4   ...  \\\n",
       "0   0.62+0.00j  0.00+0.00j  0.00+0.00j  0.00+0.00j  0.00+0.00j  ...   \n",
       "1   0.00+0.00j  0.52+0.00j  0.00+0.00j  0.00+0.00j  0.00+0.00j  ...   \n",
       "2   0.00+0.00j  0.00+0.00j  0.52+0.00j  0.00+0.00j  0.00+0.00j  ...   \n",
       "3   0.00+0.00j  0.00+0.00j  0.00+0.00j  0.42+0.00j  0.00+0.00j  ...   \n",
       "4   0.00+0.00j  0.00+0.00j  0.00+0.00j  0.00+0.00j  0.72+0.00j  ...   \n",
       "..         ...         ...         ...         ...         ...  ...   \n",
       "27  0.00+0.00j  0.00+0.00j  0.00+0.00j  0.00+0.00j  0.00+0.00j  ...   \n",
       "28  0.00+0.00j  0.00+0.00j  0.00+0.00j  0.00+0.00j  0.00+0.00j  ...   \n",
       "29  0.00+0.00j  0.00+0.00j  0.00+0.00j  0.00+0.00j  0.00+0.00j  ...   \n",
       "30  0.00+0.00j  0.00+0.00j  0.00+0.00j  0.00+0.00j  0.00+0.00j  ...   \n",
       "31  0.00+0.00j  0.00+0.00j  0.00+0.00j  0.00+0.00j  0.00+0.00j  ...   \n",
       "\n",
       "            27          28          29          30          31  \n",
       "0   0.00+0.00j  0.00+0.00j  0.00+0.00j  0.00+0.00j  0.00+0.00j  \n",
       "1   0.00+0.00j  0.00+0.00j  0.00+0.00j  0.00+0.00j  0.00+0.00j  \n",
       "2   0.00+0.00j  0.00+0.00j  0.00+0.00j  0.00+0.00j  0.00+0.00j  \n",
       "3   0.00+0.00j  0.00+0.00j  0.00+0.00j  0.00+0.00j  0.00+0.00j  \n",
       "4   0.00+0.00j  0.00+0.00j  0.00+0.00j  0.00+0.00j  0.00+0.00j  \n",
       "..         ...         ...         ...         ...         ...  \n",
       "27 -1.77+0.00j  0.00+0.00j  0.00+0.00j  0.00+0.00j  0.00+0.00j  \n",
       "28  0.00+0.00j -0.37+0.00j  0.00+0.00j  0.00+0.00j  0.00+0.00j  \n",
       "29  0.00+0.00j  0.00+0.00j -1.47+0.00j  0.00+0.00j  0.00+0.00j  \n",
       "30  0.00+0.00j  0.00+0.00j  0.00+0.00j -0.47+0.00j  0.00+0.00j  \n",
       "31  0.00+0.00j  0.00+0.00j  0.00+0.00j  0.00+0.00j -1.57+0.00j  \n",
       "\n",
       "[32 rows x 32 columns]"
      ]
     },
     "metadata": {},
     "output_type": "display_data"
    }
   ],
   "source": [
    "pd.options.display.max_columns = 10\n",
    "pd.options.display.max_rows = 10\n",
    "display(pd.DataFrame(op.to_matrix()))"
   ]
  },
  {
   "cell_type": "markdown",
   "id": "ef9eee29",
   "metadata": {},
   "source": [
    "## Task 3: Ising representation\n",
    "\n",
    "    a) Explain what is happening when calling:\n",
    "        \n",
    "        i)  display(pd.DataFrame(op))\n",
    "        ii) display(pd.DataFrame(op.to_matrix()))\n",
    "       \n",
    "    b) Explain the outputs?\n",
    "    \n",
    "        i)   What means I, Z?\n",
    "        ii)  What's with the size of the second output? (Looking for a certain keyword starting with a \"T\") \n",
    "        iii) Why do the values of the Ising representation differ from the QUBO?"
   ]
  },
  {
   "cell_type": "markdown",
   "id": "28022f32",
   "metadata": {},
   "source": [
    "##  III. QUBO solving"
   ]
  },
  {
   "cell_type": "markdown",
   "id": "b982a357",
   "metadata": {},
   "source": [
    "## a) Numpy Eigensolver exact solution\n",
    "\n",
    "Before solving the with VQE we solve it analytically by evaluating the minimum Eigenvalue, thus finding the ground state of the QUBO / Ising."
   ]
  },
  {
   "cell_type": "code",
   "execution_count": 9,
   "id": "f42ee0de",
   "metadata": {},
   "outputs": [],
   "source": [
    "%%capture\n",
    "from qiskit.opflow.primitive_ops.pauli_sum_op import PauliSumOp\n",
    "from qiskit.aqua.algorithms import NumPyMinimumEigensolver\n",
    "from qiskit.optimization.algorithms import MinimumEigenOptimizer\n",
    "\n",
    "ee = MinimumEigenOptimizer(NumPyMinimumEigensolver())\n",
    "result = ee.solve(qubo).x"
   ]
  },
  {
   "cell_type": "code",
   "execution_count": 10,
   "id": "5995d309",
   "metadata": {},
   "outputs": [
    {
     "name": "stdout",
     "output_type": "stream",
     "text": [
      "Result:  [1. 1. 0. 1. 1.]\n",
      "Energy:  -2.399730134373701\n"
     ]
    }
   ],
   "source": [
    "print('Result: ', result)\n",
    "print('Energy: ', result.dot(qubo_matrix.dot(result)))"
   ]
  },
  {
   "cell_type": "markdown",
   "id": "b21e1409",
   "metadata": {},
   "source": [
    "## b) Solving the QUBO with VQE on ideal simulation\n",
    "\n",
    "To solve the QUBO exactly some key ingredients are needed:\n",
    "\n",
    "    - Hamiltonian in the form of an Ising / QUBO\n",
    "    - a dedicated quantum circuit - called ansatz\n",
    "        i)  TwoLocal\n",
    "        ii) Custom Ansatz\n",
    "        \n",
    "    - optimizer:\n",
    "        i)   COBYLA\n",
    "        ii)  SPSA\n",
    "        iii) NFT\n",
    "\n",
    "    - backend:\n",
    "        i)   an ideal simulation, \n",
    "        ii)  a fake device (noise modelled after a real quantum device)\n",
    "        iii) real quantum device from IBM\n",
    "        \n",
    "We already defined our Hamiltonian, but since Qiskit is evolving fast sometimes a workaround is needed to utilize certain objects. In the following cell the Hamiltonian is just transformed into another representation, so that it is usable for VQE.\n",
    "    "
   ]
  },
  {
   "cell_type": "code",
   "execution_count": 11,
   "id": "c48331c3",
   "metadata": {},
   "outputs": [
    {
     "name": "stdout",
     "output_type": "stream",
     "text": [
      "0.29998274125443714 * IIIIZ\n",
      "+ 0.04999480283204502 * IIIZI\n",
      "- 0.07499999999999998 * IIZII\n",
      "+ 0.29991878756069884 * IZIII\n",
      "+ 0.5249687355396694 * ZIIII\n",
      "+ 0.25 * IIZZI\n",
      "- 0.24999480283204503 * IZIZI\n",
      "- 0.25 * ZIIIZ\n",
      "- 0.225 * ZIZII\n"
     ]
    }
   ],
   "source": [
    "# qubo -> PauliSumOp for VQE\n",
    "operator_list = []\n",
    "for operator in op:\n",
    "    aux_list = str(operator).split(' * ')\n",
    "    t = tuple([aux_list[1], aux_list[0]])\n",
    "\n",
    "    operator_list.append(t)\n",
    "\n",
    "H = PauliSumOp.from_list(operator_list)\n",
    "print(H)"
   ]
  },
  {
   "cell_type": "markdown",
   "id": "66376ac9",
   "metadata": {},
   "source": [
    "The ansatz circuit has to be defined. In a previous notebook, you already learned how to build quantum circuits and how to use gates on qubits and also extract results in the form of a measurement. For track reconstruction we need as many qubits as there are triplet. So our quantum circuit has to be of size 5 for now. For track reconstruction algorithms with a huge number of tracks and thus a huge number of triplets, there are strategies to split the QUBO into smalller pieces. But for now we stick to a size-5 quantum circuit for our 5 triplets. \n",
    "\n",
    "There are many heuristics to build a quantum circuit suitable for various problem formulations. First we want to have a look at the TwoLoacl approach.\n",
    "\n",
    "With\n",
    "\n",
    "    ansatz = TwoLocal(num_qubits,\n",
    "                      rotation_blocks,\n",
    "                      entanglement_blocks,\n",
    "                      reps,\n",
    "                      entanglement)\n",
    "\n",
    "a quantum circuit can be created where num_qubits is an integer number for the size of the quantum circuit, rotation_clocks takes a single string like 'ry' or 'rx' or a list ['rx', 'ry'] to enable the actual use of the variational principle,\n",
    "entanglement_blocks takes any two or three qubit gate like 'cx' or a list of them ['cx'. 'sx'] to create entanglements, reps takes an integer number to create this number of repetitions of the before defined parametrized and entanglement gates. The entanglement structure is defined by the last parameter, 'linear', 'circular' and 'full' are common choices. More details in the documentation: https://qiskit.org/documentation/stable/0.24/stubs/qiskit.circuit.library.TwoLocal.html \n",
    "\n",
    "Let's start with a very simple example:"
   ]
  },
  {
   "cell_type": "code",
   "execution_count": 12,
   "id": "b6b4a566",
   "metadata": {},
   "outputs": [
    {
     "name": "stdout",
     "output_type": "stream",
     "text": [
      "     ┌──────────┐ ░                      ░ ┌──────────┐\n",
      "q_0: ┤ Ry(θ[0]) ├─░───■──────────────────░─┤ Ry(θ[5]) ├\n",
      "     ├──────────┤ ░ ┌─┴─┐                ░ ├──────────┤\n",
      "q_1: ┤ Ry(θ[1]) ├─░─┤ X ├──■─────────────░─┤ Ry(θ[6]) ├\n",
      "     ├──────────┤ ░ └───┘┌─┴─┐           ░ ├──────────┤\n",
      "q_2: ┤ Ry(θ[2]) ├─░──────┤ X ├──■────────░─┤ Ry(θ[7]) ├\n",
      "     ├──────────┤ ░      └───┘┌─┴─┐      ░ ├──────────┤\n",
      "q_3: ┤ Ry(θ[3]) ├─░───────────┤ X ├──■───░─┤ Ry(θ[8]) ├\n",
      "     ├──────────┤ ░           └───┘┌─┴─┐ ░ ├──────────┤\n",
      "q_4: ┤ Ry(θ[4]) ├─░────────────────┤ X ├─░─┤ Ry(θ[9]) ├\n",
      "     └──────────┘ ░                └───┘ ░ └──────────┘\n"
     ]
    }
   ],
   "source": [
    "from qiskit.circuit.library import TwoLocal\n",
    "from qiskit.tools.visualization import circuit_drawer\n",
    "\n",
    "ansatz = TwoLocal(num_qubits=5, \n",
    "                  rotation_blocks='ry',\n",
    "                  entanglement_blocks='cx', \n",
    "                  reps=1, \n",
    "                  entanglement='linear',\n",
    "                  insert_barriers=True)\n",
    "print(ansatz)"
   ]
  },
  {
   "cell_type": "markdown",
   "id": "aadec415",
   "metadata": {},
   "source": [
    "On the optimizer side we suggest to use the following three optimizers, but you can also add other optimizers. You would just need to look up the available ones on qiskit and add them to the following cells"
   ]
  },
  {
   "cell_type": "code",
   "execution_count": 13,
   "id": "8831d571",
   "metadata": {},
   "outputs": [],
   "source": [
    "from qiskit.algorithms.optimizers import COBYLA, SPSA, NFT\n",
    "\n",
    "# optimizer = COBYLA(maxiter=4000)\n",
    "# optimizer = SPSA(maxiter=4000)       # takes some time ...\n",
    "optimizer = NFT(maxiter=4000)"
   ]
  },
  {
   "cell_type": "markdown",
   "id": "a5aa0036",
   "metadata": {},
   "source": [
    "The last ingredient is the quantum instance. As backend we take the 'qasm_simulator', an ideal simulation without noise.\n",
    "The number of shots is the number of repetitions of the evaluation of the quantum circuit."
   ]
  },
  {
   "cell_type": "code",
   "execution_count": 14,
   "id": "a2841eff",
   "metadata": {},
   "outputs": [],
   "source": [
    "from qiskit import Aer\n",
    "from qiskit.utils import QuantumInstance"
   ]
  },
  {
   "cell_type": "code",
   "execution_count": 15,
   "id": "9dbd76b8",
   "metadata": {},
   "outputs": [],
   "source": [
    "quantum_instance = QuantumInstance(backend=Aer.get_backend('qasm_simulator'), \n",
    "                                   shots=128)"
   ]
  },
  {
   "cell_type": "markdown",
   "id": "e494c6b3",
   "metadata": {},
   "source": [
    "Now everything can be put together and VQE can be finally used to solve the QUBO"
   ]
  },
  {
   "cell_type": "code",
   "execution_count": 16,
   "id": "ac0b06c9",
   "metadata": {},
   "outputs": [],
   "source": [
    "from qiskit.algorithms import VQE"
   ]
  },
  {
   "cell_type": "code",
   "execution_count": 17,
   "id": "13638a16",
   "metadata": {},
   "outputs": [],
   "source": [
    "ideal_vqe = VQE(ansatz=ansatz,\n",
    "                optimizer=optimizer,\n",
    "                quantum_instance=quantum_instance)\n",
    "\n",
    "ideal_result_vqe = ideal_vqe.compute_minimum_eigenvalue(H)"
   ]
  },
  {
   "cell_type": "code",
   "execution_count": 18,
   "id": "7750e766",
   "metadata": {},
   "outputs": [
    {
     "name": "stdout",
     "output_type": "stream",
     "text": [
      "energy:  -1.7748598700188953\n",
      "result:  {'01011': 0.0625, '11011': 0.998044963916957}\n"
     ]
    }
   ],
   "source": [
    "print('energy: ', ideal_result_vqe.eigenvalue.real)\n",
    "print('result: ', ideal_result_vqe.eigenstate)"
   ]
  },
  {
   "cell_type": "markdown",
   "id": "dfd63d03",
   "metadata": {},
   "source": [
    "## Task 4: Understanding the results part I\n",
    "\n",
    "    a) compare results of the Minimum Eigenoptimizer with the one of VQE and explain the results:\n",
    "        i)   why do they differ in energy \n",
    "        ii)  why does VQE has many results and what do the values stand for \n",
    "        \n",
    "        (Note: These results are ordered from last to first qubit! So it's not q0q1q2q3q4 but q4q3q2q1q0)\n",
    "    \n",
    "    b) in preparation for the next step: plot the probabilities(!) of the VQE results\n",
    "    \n",
    "    c) play around with optimizer and ansatz circuit try to find a combination that will result in the correct solution with 100% probability. Explain which parameters you altered and how you found the solution.\n"
   ]
  },
  {
   "cell_type": "markdown",
   "id": "23ad17a9",
   "metadata": {},
   "source": [
    "## c) Solving the QUBO with VQE on a Fake Device\n",
    "\n",
    "Now let's get results on a Fake Device."
   ]
  },
  {
   "cell_type": "code",
   "execution_count": 19,
   "id": "97e25d0d",
   "metadata": {},
   "outputs": [
    {
     "data": {
      "text/plain": [
       "'Evaluation: 1025, Energy: -1.4666800662050326, Std: 0.03291048286886297'"
      ]
     },
     "metadata": {},
     "output_type": "display_data"
    }
   ],
   "source": [
    "from qiskit.providers.aer import QasmSimulator\n",
    "from qiskit.test.mock import FakeLima\n",
    "\n",
    "def callback(eval_count, parameters, mean, std):  \n",
    "    # Overwrites the same line when printing\n",
    "    display(\"Evaluation: {}, Energy: {}, Std: {}\".format(eval_count, mean, std))\n",
    "    clear_output(wait=True)\n",
    "    counts.append(eval_count)\n",
    "    values.append(mean)\n",
    "    params.append(parameters)\n",
    "    deviation.append(std)\n",
    "\n",
    "counts = []\n",
    "values = []\n",
    "params = []\n",
    "deviation = []\n",
    "\n",
    "quantum_instance = QuantumInstance(backend=QasmSimulator.from_backend(FakeLima()),\n",
    "                                   shots=128,\n",
    "                                   optimization_level=2)\n",
    "\n",
    "vqe_fake_device = VQE(ansatz=ansatz,\n",
    "                      optimizer=optimizer,\n",
    "                      quantum_instance=quantum_instance,\n",
    "                      callback=callback)\n",
    "\n",
    "vqe_result_fake_device = vqe_fake_device.compute_minimum_eigenvalue(H)"
   ]
  },
  {
   "cell_type": "code",
   "execution_count": 20,
   "id": "77a5c831",
   "metadata": {},
   "outputs": [
    {
     "name": "stdout",
     "output_type": "stream",
     "text": [
      "energy:  -1.4666800662050326\n",
      "result:  {'00011': 0.08838834764831845, '01001': 0.0625, '01011': 0.3423265984407288, '10010': 0.08838834764831845, '10011': 0.21650635094610965, '11001': 0.21650635094610965, '11010': 0.0625, '11011': 0.8705242673240075, '11100': 0.0625, '11111': 0.0625}\n"
     ]
    }
   ],
   "source": [
    "print('energy: ', vqe_result_fake_device.eigenvalue.real)\n",
    "print('result: ', vqe_result_fake_device.eigenstate)"
   ]
  },
  {
   "cell_type": "markdown",
   "id": "06b51005",
   "metadata": {},
   "source": [
    "## Task 5: Understanding the results part II\n",
    "\n",
    "    a)  play around with optimizer and ansatz circuit again. Can you find a combination that will result in the correct solution with 100% probability. What's the problem here? Discuss!\n",
    "    \n",
    "    b) (Optional) There are topics within Quantum Computing called Error Mitigation and Error Correction. If you are interested about that let's schedule talk about it!"
   ]
  },
  {
   "cell_type": "markdown",
   "id": "e210b5e8",
   "metadata": {},
   "source": [
    "## d) Solving the QUBO with VQE on a real quantum device\n",
    "\n",
    "Before you start this section:\n",
    "\n",
    "    - Create an account at IBM at https://quantum-computing.ibm.com/. You need to have an API token in order to start computing on their devices. Don't worry, it's for free unless you want to pay for priority or better devices.\n",
    "\n",
    "    - make sure you have chosen an optimal setup! It needs to be fast and give you a good result. Otherwise you wiill have to wait O(days) for your result, because you have no priority on the devices and have to share them with many other people.\n",
    "    \n",
    "    - after you have your results, please save them immediately. The print statements displays the results that are most important. A high resolution screenshot is appreciated to for starters ;-)"
   ]
  },
  {
   "cell_type": "code",
   "execution_count": 21,
   "id": "e9834f75",
   "metadata": {},
   "outputs": [],
   "source": [
    "%%capture\n",
    "from qiskit import IBMQ"
   ]
  },
  {
   "cell_type": "code",
   "execution_count": 22,
   "id": "2cfd8b1f",
   "metadata": {},
   "outputs": [],
   "source": [
    "# IBMQ.save_account(\"Here you have to put your API token\")"
   ]
  },
  {
   "cell_type": "code",
   "execution_count": null,
   "id": "ad33faec",
   "metadata": {},
   "outputs": [],
   "source": [
    "IBMQ.load_account()"
   ]
  },
  {
   "cell_type": "code",
   "execution_count": null,
   "id": "22a53c3d",
   "metadata": {},
   "outputs": [],
   "source": [
    "def callback(eval_count, parameters, mean, std):  \n",
    "    # Overwrites the same line when printing\n",
    "    display(\"Evaluation: {}, Energy: {}, Std: {}\".format(eval_count, mean, std))\n",
    "    clear_output(wait=True)\n",
    "    counts.append(eval_count)\n",
    "    values.append(mean)\n",
    "    params.append(parameters)\n",
    "    deviation.append(std)\n",
    "\n",
    "counts = []\n",
    "values = []\n",
    "params = []\n",
    "deviation = []\n",
    "\n",
    "quantum_instance_ibmq = QuantumInstance(backend=IBMQ.get_provider(hub='ibm-q').get_backend('ibmq_quito'), \n",
    "                                        shots=128,\n",
    "                                        optimization_level=2)\n",
    "vqe_ibm = VQE(ansatz=ansatz,\n",
    "              optimizer=optimizer,\n",
    "              quantum_instance=quantum_instance_ibmq,\n",
    "              callback=callback)\n",
    "\n",
    "\n",
    "\n",
    "result_vqe_ibm = vqe_ibm.compute_minimum_eigenvalue(H)"
   ]
  },
  {
   "cell_type": "code",
   "execution_count": null,
   "id": "378ce365",
   "metadata": {},
   "outputs": [],
   "source": [
    "print('energy: ', result_vqe_ibm.eigenvalue.real)\n",
    "print('result: ', result_vqe_ibm.eigenstate)"
   ]
  },
  {
   "cell_type": "markdown",
   "id": "7cccdf3c",
   "metadata": {},
   "source": [
    "# Congratulations! \n",
    "\n",
    "# You completed your first track reconstruction task on a real quantum device. AWESOME!"
   ]
  }
 ],
 "metadata": {
  "kernelspec": {
   "display_name": "Python 3",
   "language": "python",
   "name": "python3"
  },
  "language_info": {
   "codemirror_mode": {
    "name": "ipython",
    "version": 3
   },
   "file_extension": ".py",
   "mimetype": "text/x-python",
   "name": "python",
   "nbconvert_exporter": "python",
   "pygments_lexer": "ipython3",
   "version": "3.6.8"
  }
 },
 "nbformat": 4,
 "nbformat_minor": 5
}
